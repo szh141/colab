{
  "nbformat": 4,
  "nbformat_minor": 0,
  "metadata": {
    "colab": {
      "provenance": [],
      "authorship_tag": "ABX9TyPCz0SG/fksXOimnXah6aKw",
      "include_colab_link": true
    },
    "kernelspec": {
      "name": "python3",
      "display_name": "Python 3"
    },
    "language_info": {
      "name": "python"
    }
  },
  "cells": [
    {
      "cell_type": "markdown",
      "metadata": {
        "id": "view-in-github",
        "colab_type": "text"
      },
      "source": [
        "<a href=\"https://colab.research.google.com/github/szh141/colab/blob/main/Python_tasks_1.ipynb\" target=\"_parent\"><img src=\"https://colab.research.google.com/assets/colab-badge.svg\" alt=\"Open In Colab\"/></a>"
      ]
    },
    {
      "cell_type": "markdown",
      "source": [
        "\n",
        "**Create a Python dictionary** containing information about a person (name, age, address).\n",
        "\n",
        "Add a new key-value pair to the dictionary.\n",
        "\n",
        "Write a function that iterates through the dictionary and prints all key-value pairs."
      ],
      "metadata": {
        "id": "mFle0Wz_ltg5"
      }
    },
    {
      "cell_type": "code",
      "execution_count": 10,
      "metadata": {
        "colab": {
          "base_uri": "https://localhost:8080/"
        },
        "id": "pZA9RhFClmaw",
        "outputId": "26e7e03e-c4c3-4896-aa8a-ed3e82538bfd"
      },
      "outputs": [
        {
          "output_type": "stream",
          "name": "stdout",
          "text": [
            "name:Cj\n",
            "age:55\n",
            "phone#:999\n",
            "email:Cj@gmail.com\n"
          ]
        }
      ],
      "source": [
        "person_info = {\n",
        "    'name':'Cj',\n",
        "    'age':55,\n",
        "    'phone#':999\n",
        "    }\n",
        "\n",
        "person_info['email'] = 'Cj@gmail.com'\n",
        "\n",
        "def print_key_value(info_dict):\n",
        "  for key,value in info_dict.items():\n",
        "    print(f'{key}:{value}')\n",
        "\n",
        "print_key_value(person_info)"
      ]
    },
    {
      "cell_type": "markdown",
      "source": [
        "**Python File I/O:**\n",
        "\n",
        "Create a text file and write some text into it using Python.\n",
        "\n",
        "Read the content of the file and print it to the console.\n",
        "\n",
        "Implement error handling to ensure the file is properly closed, even if an exception occurs."
      ],
      "metadata": {
        "id": "maBZEByDqNf8"
      }
    },
    {
      "cell_type": "code",
      "source": [
        "try:\n",
        "    # Create and write to a text file\n",
        "    with open(\"example.txt\", \"w\") as file:\n",
        "        file.write(\"Hello, this is some text written to the file.\\n\")\n",
        "        file.write(\"This is a second line of text.\\n\")\n",
        "\n",
        "    # Read the content of the file and print it to the console\n",
        "    with open(\"example.txt\", \"r\") as file:\n",
        "        file_content = file.read()\n",
        "        print(\"File Content:\")\n",
        "        print(file_content)\n",
        "\n",
        "except FileNotFoundError:\n",
        "    print(\"The file was not found.\")\n",
        "except Exception as e:\n",
        "    print(f\"An error occurred: {e}\")\n",
        "finally:\n",
        "    print(\"File operation completed.\")"
      ],
      "metadata": {
        "colab": {
          "base_uri": "https://localhost:8080/"
        },
        "id": "bIU7fSO8qNBS",
        "outputId": "f781eb51-0afb-42e5-c1e5-002e7e9fd489"
      },
      "execution_count": 11,
      "outputs": [
        {
          "output_type": "stream",
          "name": "stdout",
          "text": [
            "File Content:\n",
            "Hello, this is some text written to the file.\n",
            "This is a second line of text.\n",
            "\n",
            "File operation completed.\n"
          ]
        }
      ]
    },
    {
      "cell_type": "markdown",
      "source": [
        "**Define function vs lamda function to square**\n",
        "\n",
        "Lambda expressions are useful for creating small, anonymous functions like this."
      ],
      "metadata": {
        "id": "Es4KWg9uqurg"
      }
    },
    {
      "cell_type": "code",
      "source": [
        "def square_f(a):\n",
        "  a = a**2\n",
        "  return a\n",
        "\n",
        "print(square_f(3))\n",
        "\n",
        "square_lambda = lambda a:a**2 #lambda not lamda\n",
        "print(square_lambda(3))"
      ],
      "metadata": {
        "colab": {
          "base_uri": "https://localhost:8080/"
        },
        "id": "2Qj_ltt9quIY",
        "outputId": "731cbbb6-c71a-44da-bf46-7242973da824"
      },
      "execution_count": 19,
      "outputs": [
        {
          "output_type": "stream",
          "name": "stdout",
          "text": [
            "9\n",
            "9\n"
          ]
        }
      ]
    }
  ]
}