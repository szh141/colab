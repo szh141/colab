{
  "nbformat": 4,
  "nbformat_minor": 0,
  "metadata": {
    "colab": {
      "provenance": [],
      "authorship_tag": "ABX9TyO0uLIRJV4sf9Ts0lmRA7lR",
      "include_colab_link": true
    },
    "kernelspec": {
      "name": "python3",
      "display_name": "Python 3"
    },
    "language_info": {
      "name": "python"
    }
  },
  "cells": [
    {
      "cell_type": "markdown",
      "metadata": {
        "id": "view-in-github",
        "colab_type": "text"
      },
      "source": [
        "<a href=\"https://colab.research.google.com/github/szh141/colab/blob/main/Python_task_4.ipynb\" target=\"_parent\"><img src=\"https://colab.research.google.com/assets/colab-badge.svg\" alt=\"Open In Colab\"/></a>"
      ]
    },
    {
      "cell_type": "markdown",
      "source": [
        "**Python Control Flow:**\n",
        "Write a Python program using control flow statements to find the **factorial** of a number. 阶乘"
      ],
      "metadata": {
        "id": "RoW9WBjMlanY"
      }
    },
    {
      "cell_type": "code",
      "execution_count": 8,
      "metadata": {
        "colab": {
          "base_uri": "https://localhost:8080/"
        },
        "id": "59xC2laOk2gq",
        "outputId": "bf8a6cf7-b690-4791-9341-3140ba5d8ba8"
      },
      "outputs": [
        {
          "output_type": "stream",
          "name": "stdout",
          "text": [
            "Factorial of 5 is 120\n"
          ]
        }
      ],
      "source": [
        "# Function to calculate the factorial of a number\n",
        "def factorial(n):\n",
        "    if n < 0:\n",
        "        return \"Factorial is not defined for negative numbers.\"\n",
        "    elif n == 0:\n",
        "        return 1\n",
        "    else:\n",
        "        result = 1\n",
        "        while n > 0:\n",
        "            result *= n\n",
        "            n -= 1\n",
        "        return result\n",
        "\n",
        "# Calculate and print the factorial of a number (e.g., 5)\n",
        "number = 5\n",
        "fact = factorial(number)\n",
        "print(f\"Factorial of {number} is {fact}\")"
      ]
    },
    {
      "cell_type": "markdown",
      "source": [
        "**Python Comprehensions:**\n",
        "Create a list comprehension to generate a list of squares of numbers from 1 to 10."
      ],
      "metadata": {
        "id": "MICjbvlbmRAy"
      }
    },
    {
      "cell_type": "code",
      "source": [
        "list_a = [X**2 for X in range(1,11)] # if range(11) will include 0\n",
        "list_a"
      ],
      "metadata": {
        "colab": {
          "base_uri": "https://localhost:8080/"
        },
        "id": "sE0WDQ2IlsSi",
        "outputId": "3f098693-21af-4882-a969-c104ec9a9e5b"
      },
      "execution_count": 14,
      "outputs": [
        {
          "output_type": "execute_result",
          "data": {
            "text/plain": [
              "[1, 4, 9, 16, 25, 36, 49, 64, 81, 100]"
            ]
          },
          "metadata": {},
          "execution_count": 14
        }
      ]
    },
    {
      "cell_type": "markdown",
      "source": [
        "**Python Strings:**\n",
        "Write a function that takes a string and returns the reversed string."
      ],
      "metadata": {
        "id": "LEp-WNtWm9BD"
      }
    },
    {
      "cell_type": "code",
      "source": [
        "# Function to reverse a string\n",
        "def reverse_string(input_string):\n",
        "    return input_string[::-1]\n",
        "\n",
        "# Example usage:\n",
        "original_string = \"Hello, World!\"\n",
        "reversed_string = reverse_string(original_string)\n",
        "print(\"Original String:\", original_string)\n",
        "print(\"Reversed String:\", reversed_string)"
      ],
      "metadata": {
        "colab": {
          "base_uri": "https://localhost:8080/"
        },
        "id": "W4m2jfOtmivj",
        "outputId": "ce8c12c0-9b03-4ef6-9426-b9a65a2ca1c7"
      },
      "execution_count": 19,
      "outputs": [
        {
          "output_type": "stream",
          "name": "stdout",
          "text": [
            "Original String: Hello, World!\n",
            "Reversed String: !dlroW ,olleH\n"
          ]
        }
      ]
    },
    {
      "cell_type": "markdown",
      "source": [
        "**Python Inheritance:**\n",
        "\n",
        "Create a base class called “Animal” with common attributes and methods.\n",
        "\n",
        "Create subclasses like “Dog” and “Cat” that inherit from the “Animal” class"
      ],
      "metadata": {
        "id": "0y6YjcwCnybx"
      }
    },
    {
      "cell_type": "code",
      "source": [
        "# Define the base class \"Animal\"\n",
        "class Animal:\n",
        "    def __init__(self, name, species):\n",
        "        self.name = name\n",
        "        self.species = species\n",
        "\n",
        "    def make_sound(self):\n",
        "        pass  # Placeholder method for making a sound\n",
        "\n",
        "    def describe(self):\n",
        "        print(f\"I am a {self.species} named {self.name}.\")\n",
        "\n",
        "# Create a subclass \"Dog\" that inherits from \"Animal\"\n",
        "class Dog(Animal):\n",
        "    def __init__(self, name, breed):\n",
        "        super().__init__(name, species=\"Dog\")\n",
        "        self.breed = breed\n",
        "\n",
        "    def make_sound(self):\n",
        "        return \"Woof!\"\n",
        "\n",
        "    def describe(self):\n",
        "        super().describe()\n",
        "        print(f\"I am a {self.breed} dog.\")\n",
        "\n",
        "# Create a subclass \"Cat\" that inherits from \"Animal\"\n",
        "class Cat(Animal):\n",
        "    def __init__(self, name, color):\n",
        "        super().__init__(name, species=\"Cat\")\n",
        "        self.color = color\n",
        "\n",
        "    def make_sound(self):\n",
        "        return \"Meow!\"\n",
        "\n",
        "    def describe(self):\n",
        "        super().describe()\n",
        "        print(f\"I am a {self.color} cat.\")\n",
        "\n",
        "# Create instances of \"Dog\" and \"Cat\"\n",
        "dog = Dog(\"Buddy\", \"Golden Retriever\")\n",
        "cat = Cat(\"Whiskers\", \"Gray\")\n",
        "\n",
        "# Describe and make sounds of the animals\n",
        "dog.describe()\n",
        "print(dog.make_sound())  # Output: Woof!\n",
        "print()\n",
        "\n",
        "cat.describe()\n",
        "print(cat.make_sound())  # Output: Meow!\n"
      ],
      "metadata": {
        "colab": {
          "base_uri": "https://localhost:8080/"
        },
        "id": "0j8z-EEEnyIY",
        "outputId": "49b439fa-3cb2-49e7-aabe-a568b687474e"
      },
      "execution_count": 20,
      "outputs": [
        {
          "output_type": "stream",
          "name": "stdout",
          "text": [
            "I am a Dog named Buddy.\n",
            "I am a Golden Retriever dog.\n",
            "Woof!\n",
            "\n",
            "I am a Cat named Whiskers.\n",
            "I am a Gray cat.\n",
            "Meow!\n"
          ]
        }
      ]
    },
    {
      "cell_type": "markdown",
      "source": [
        "**Python Encapsulation:**\n",
        "\n",
        "Define a Python class with private attributes and methods.\n",
        "\n",
        "Implement getter and setter methods to access and modify the private attributes."
      ],
      "metadata": {
        "id": "7TMZJCFsppWE"
      }
    },
    {
      "cell_type": "code",
      "source": [
        "class Person:\n",
        "    def __init__(self, name, age):\n",
        "        self.__name = name  # Private attribute\n",
        "        self.__age = age    # Private attribute\n",
        "\n",
        "    # Getter method for name\n",
        "    def get_name(self):\n",
        "        return self.__name\n",
        "\n",
        "    # Setter method for name\n",
        "    def set_name(self, new_name):\n",
        "        self.__name = new_name\n",
        "\n",
        "    # Getter method for age\n",
        "    def get_age(self):\n",
        "        return self.__age\n",
        "\n",
        "    # Setter method for age\n",
        "    def set_age(self, new_age):\n",
        "        if 0 <= new_age <= 150:  # Adding validation for age\n",
        "            self.__age = new_age\n",
        "        else:\n",
        "            print(\"Invalid age value. Age should be between 0 and 150.\")\n",
        "\n",
        "    def introduce(self):\n",
        "        print(f\"My name is {self.__name} and I am {self.__age} years old.\")\n",
        "\n",
        "# Create an instance of the Person class\n",
        "person = Person(\"John\", 30)\n",
        "\n",
        "# Access private attributes using getter methods\n",
        "print(\"Name:\", person.get_name())  # Output: Name: John\n",
        "print(\"Age:\", person.get_age())    # Output: Age: 30\n",
        "\n",
        "# Modify private attributes using setter methods\n",
        "person.set_name(\"Jane\")\n",
        "person.set_age(25)\n",
        "\n",
        "# Call the introduce method\n",
        "person.introduce()  # Output: My name is Jane and I am 25 years old.\n",
        "\n",
        "# Attempt to set an invalid age\n",
        "person.set_age(200)  # Output: Invalid age value. Age should be between 0 and 150."
      ],
      "metadata": {
        "colab": {
          "base_uri": "https://localhost:8080/"
        },
        "id": "hn9WZz0lqD4Y",
        "outputId": "23d26c27-e059-4955-8603-326ded1797ed"
      },
      "execution_count": 21,
      "outputs": [
        {
          "output_type": "stream",
          "name": "stdout",
          "text": [
            "Name: John\n",
            "Age: 30\n",
            "My name is Jane and I am 25 years old.\n",
            "Invalid age value. Age should be between 0 and 150.\n"
          ]
        }
      ]
    },
    {
      "cell_type": "code",
      "source": [
        "person = Person('John',30)\n",
        "person.introduce()"
      ],
      "metadata": {
        "colab": {
          "base_uri": "https://localhost:8080/"
        },
        "id": "WTPSv-SbqFgj",
        "outputId": "69d8ad09-7413-46a3-e71b-0fb3de132f56"
      },
      "execution_count": 23,
      "outputs": [
        {
          "output_type": "stream",
          "name": "stdout",
          "text": [
            "My name is John and I am 30 years old.\n"
          ]
        }
      ]
    },
    {
      "cell_type": "markdown",
      "source": [
        "**Python Formatting and Decorators:**\n",
        "\n",
        "Create a Python decorator that logs the execution time of a function."
      ],
      "metadata": {
        "id": "csyyPG7kt2_F"
      }
    },
    {
      "cell_type": "code",
      "source": [
        "import time\n",
        "\n",
        "# Decorator function to log the execution time of a function\n",
        "def timing_decorator(func):\n",
        "    def wrapper(*args, **kwargs):\n",
        "        start_time = time.time()\n",
        "        result = func(*args, **kwargs)\n",
        "        end_time = time.time()\n",
        "        print(f\"Function {func.__name__} took {end_time - start_time:.2f} seconds to execute.\")\n",
        "        return result\n",
        "    return wrapper\n",
        "\n",
        "# Use the decorator to time a function\n",
        "@timing_decorator\n",
        "def some_function():\n",
        "    # Simulate some work\n",
        "    time.sleep(2)\n",
        "\n",
        "some_function()"
      ],
      "metadata": {
        "colab": {
          "base_uri": "https://localhost:8080/"
        },
        "id": "iADyux-Mtjl1",
        "outputId": "76e8ca1b-ef16-431c-815f-b9bbd38d61df"
      },
      "execution_count": 24,
      "outputs": [
        {
          "output_type": "stream",
          "name": "stdout",
          "text": [
            "Function some_function took 2.00 seconds to execute.\n"
          ]
        }
      ]
    }
  ]
}