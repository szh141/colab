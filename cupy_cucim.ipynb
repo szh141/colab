{
  "nbformat": 4,
  "nbformat_minor": 0,
  "metadata": {
    "colab": {
      "provenance": [],
      "gpuType": "T4",
      "authorship_tag": "ABX9TyPQAmHR731LzbaLrIowcbLn",
      "include_colab_link": true
    },
    "kernelspec": {
      "name": "python3",
      "display_name": "Python 3"
    },
    "language_info": {
      "name": "python"
    },
    "accelerator": "GPU"
  },
  "cells": [
    {
      "cell_type": "markdown",
      "metadata": {
        "id": "view-in-github",
        "colab_type": "text"
      },
      "source": [
        "<a href=\"https://colab.research.google.com/github/szh141/colab/blob/main/cupy_cucim.ipynb\" target=\"_parent\"><img src=\"https://colab.research.google.com/assets/colab-badge.svg\" alt=\"Open In Colab\"/></a>"
      ]
    },
    {
      "cell_type": "markdown",
      "source": [
        "no need to install cupy-cuda\n",
        "change runtime to GPU\n",
        "install CuCIM"
      ],
      "metadata": {
        "id": "56Y0v0N-dAs7"
      }
    },
    {
      "cell_type": "markdown",
      "source": [
        "https://quansight.com/post/rapids-cucim-porting-scikit-image-code-to-the-gpu/\n",
        "\n",
        "https://github.com/rapidsai/cucim\n",
        "\n",
        "change runtime to GPU"
      ],
      "metadata": {
        "id": "clYvb_Qz9LVQ"
      }
    },
    {
      "cell_type": "code",
      "source": [
        " ! nvcc --version"
      ],
      "metadata": {
        "id": "NG-jpstWOLu1",
        "colab": {
          "base_uri": "https://localhost:8080/"
        },
        "outputId": "5ceada9f-5e9f-4a38-e525-3b5b12452f82"
      },
      "execution_count": 1,
      "outputs": [
        {
          "output_type": "stream",
          "name": "stdout",
          "text": [
            "nvcc: NVIDIA (R) Cuda compiler driver\n",
            "Copyright (c) 2005-2023 NVIDIA Corporation\n",
            "Built on Tue_Aug_15_22:02:13_PDT_2023\n",
            "Cuda compilation tools, release 12.2, V12.2.140\n",
            "Build cuda_12.2.r12.2/compiler.33191640_0\n"
          ]
        }
      ]
    },
    {
      "cell_type": "code",
      "source": [
        "pip install scipy scikit-image cupy-cuda110"
      ],
      "metadata": {
        "id": "kCa5do0AOdeN",
        "colab": {
          "base_uri": "https://localhost:8080/"
        },
        "outputId": "ffaea56b-7fd7-4af6-c653-ef9d940b8b09"
      },
      "execution_count": 2,
      "outputs": [
        {
          "output_type": "stream",
          "name": "stdout",
          "text": [
            "Collecting cupy-cuda11x\n",
            "  Downloading cupy_cuda11x-13.0.0-cp310-cp310-manylinux2014_x86_64.whl (95.3 MB)\n",
            "\u001b[2K     \u001b[90m━━━━━━━━━━━━━━━━━━━━━━━━━━━━━━━━━━━━━━━━\u001b[0m \u001b[32m95.3/95.3 MB\u001b[0m \u001b[31m10.2 MB/s\u001b[0m eta \u001b[36m0:00:00\u001b[0m\n",
            "\u001b[?25hRequirement already satisfied: numpy<1.29,>=1.22 in /usr/local/lib/python3.10/dist-packages (from cupy-cuda11x) (1.23.5)\n",
            "Requirement already satisfied: fastrlock>=0.5 in /usr/local/lib/python3.10/dist-packages (from cupy-cuda11x) (0.8.2)\n",
            "Installing collected packages: cupy-cuda11x\n",
            "Successfully installed cupy-cuda11x-13.0.0\n"
          ]
        }
      ]
    },
    {
      "cell_type": "code",
      "source": [
        "pip install cucim"
      ],
      "metadata": {
        "id": "AvJpTT6R9nP7"
      },
      "execution_count": null,
      "outputs": []
    },
    {
      "cell_type": "markdown",
      "source": [
        "As is also the case for CuPy itself, cuCIM functions assume that the inputs are already GPU arrays. The user must manage transfer of data to/from the GPU using cupy.asarray or cupy.asnumpy, as appropriate. In general, for best performance, one should try to minimize the number of data transfers between the host and GPU by performing multiple operations on the GPU in sequence. For additional examples see the C++ and Python examples in our repository as well as our GTC conference presentation."
      ],
      "metadata": {
        "id": "ZLZT5uly9FZQ"
      }
    },
    {
      "cell_type": "code",
      "source": [
        "import cupy as cp\n",
        "import numpy as np\n",
        "import matplotlib.pyplot as plt\n",
        "\n",
        "from skimage import data\n",
        "from cucim.skimage import color\n",
        "from cucim.skimage import filters\n",
        "\n",
        "retina = data.retina()\n",
        "retina_gpu = cp.asarray(retina)\n",
        "\n",
        "retina_gpu = color.rgb2gray(retina_gpu)\n",
        "\n",
        "# apply four different filters that can enhance vessels\n",
        "filter_kwargs = dict(sigmas=[2], mode=\"reflect\", black_ridges=True)\n",
        "filtered_meijering = filters.meijering(retina_gpu, **filter_kwargs)\n",
        "filtered_sato = filters.sato(retina_gpu, **filter_kwargs)\n",
        "filtered_frangi = filters.frangi(retina_gpu, **filter_kwargs)\n",
        "filtered_hessian = filters.hessian(retina_gpu, **filter_kwargs)"
      ],
      "metadata": {
        "id": "S8ubvfzvNP_I"
      },
      "execution_count": null,
      "outputs": []
    },
    {
      "cell_type": "markdown",
      "source": [
        "https://www.w3schools.com/python/ref_func_dict.asp"
      ],
      "metadata": {
        "id": "Hvd3CNyy-0Bm"
      }
    },
    {
      "cell_type": "markdown",
      "source": [
        "Even for this relatively small-scale image of shape 1011×1011, filtering operations are faster on the GPU than for the corresponding CPU code in scikit-image."
      ],
      "metadata": {
        "id": "bE3M-cw_--RT"
      }
    },
    {
      "cell_type": "code",
      "source": [],
      "metadata": {
        "id": "RDTR5dH--3kd"
      },
      "execution_count": null,
      "outputs": []
    }
  ]
}