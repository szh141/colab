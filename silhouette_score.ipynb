{
  "nbformat": 4,
  "nbformat_minor": 0,
  "metadata": {
    "colab": {
      "provenance": [],
      "authorship_tag": "ABX9TyOJvH94nr7QItsqDbY2qciR",
      "include_colab_link": true
    },
    "kernelspec": {
      "name": "python3",
      "display_name": "Python 3"
    },
    "language_info": {
      "name": "python"
    }
  },
  "cells": [
    {
      "cell_type": "markdown",
      "metadata": {
        "id": "view-in-github",
        "colab_type": "text"
      },
      "source": [
        "<a href=\"https://colab.research.google.com/github/szh141/colab/blob/main/silhouette_score.ipynb\" target=\"_parent\"><img src=\"https://colab.research.google.com/assets/colab-badge.svg\" alt=\"Open In Colab\"/></a>"
      ]
    },
    {
      "cell_type": "markdown",
      "source": [
        "https://scikit-learn.org/stable/modules/generated/sklearn.metrics.silhouette_score.html\n",
        "This function returns the **mean** Silhouette Coefficient over all samples. To obtain the values for each sample, use **silhouette_samples**.\n",
        "\n",
        "The Silhouette Coefficient is calculated using the mean intra-cluster distance (a) and the mean nearest-cluster distance (b) for each sample. The Silhouette Coefficient for a sample is (b - a) / max(a, b).\n",
        "\n",
        "The best value is 1 and the worst value is -1. Values near 0 indicate overlapping clusters. Negative values generally indicate that a sample has been assigned to the wrong cluster, as a different cluster is more similar."
      ],
      "metadata": {
        "id": "cxpaURnd6hDY"
      }
    },
    {
      "cell_type": "code",
      "execution_count": 3,
      "metadata": {
        "colab": {
          "base_uri": "https://localhost:8080/"
        },
        "id": "mHO6KESo6Fw8",
        "outputId": "67908a97-a09a-4bf2-dd16-9b90afe31358"
      },
      "outputs": [
        {
          "output_type": "stream",
          "name": "stderr",
          "text": [
            "/usr/local/lib/python3.10/dist-packages/sklearn/cluster/_kmeans.py:870: FutureWarning: The default value of `n_init` will change from 10 to 'auto' in 1.4. Set the value of `n_init` explicitly to suppress the warning\n",
            "  warnings.warn(\n"
          ]
        },
        {
          "output_type": "execute_result",
          "data": {
            "text/plain": [
              "0.7020937832636733"
            ]
          },
          "metadata": {},
          "execution_count": 3
        }
      ],
      "source": [
        "from sklearn.datasets import make_blobs\n",
        "from sklearn.cluster import KMeans\n",
        "from sklearn.metrics import silhouette_score,silhouette_samples\n",
        "X, y = make_blobs(random_state=42)\n",
        "kmeans = KMeans(n_clusters=2, random_state=42)\n",
        "silhouette_score(X, kmeans.fit_predict(X))\n"
      ]
    },
    {
      "cell_type": "code",
      "source": [
        "silhouette_samples(X, kmeans.fit_predict(X))"
      ],
      "metadata": {
        "colab": {
          "base_uri": "https://localhost:8080/"
        },
        "id": "irU6KfIt6VvI",
        "outputId": "08dfec62-2976-474b-cc9b-9a0ae8f82ea1"
      },
      "execution_count": 4,
      "outputs": [
        {
          "output_type": "stream",
          "name": "stderr",
          "text": [
            "/usr/local/lib/python3.10/dist-packages/sklearn/cluster/_kmeans.py:870: FutureWarning: The default value of `n_init` will change from 10 to 'auto' in 1.4. Set the value of `n_init` explicitly to suppress the warning\n",
            "  warnings.warn(\n"
          ]
        },
        {
          "output_type": "execute_result",
          "data": {
            "text/plain": [
              "array([0.87531631, 0.52486062, 0.63915454, 0.50532851, 0.91688533,\n",
              "       0.56388037, 0.65083572, 0.61170439, 0.62265221, 0.61480529,\n",
              "       0.64000861, 0.89155811, 0.91509042, 0.60107478, 0.66552059,\n",
              "       0.90347015, 0.91179724, 0.64280231, 0.91189865, 0.91484334,\n",
              "       0.64125798, 0.92382117, 0.91041124, 0.63962591, 0.63178809,\n",
              "       0.63170733, 0.56239243, 0.89413792, 0.89989117, 0.87411508,\n",
              "       0.91698364, 0.60353823, 0.60986579, 0.8747449 , 0.66277639,\n",
              "       0.63781145, 0.64167242, 0.66141247, 0.59335055, 0.47332927,\n",
              "       0.8809196 , 0.64244184, 0.53417626, 0.60702642, 0.65244427,\n",
              "       0.61015267, 0.88345036, 0.92251814, 0.88561992, 0.57099473,\n",
              "       0.58690986, 0.5881669 , 0.64902133, 0.91356988, 0.83974414,\n",
              "       0.91725719, 0.62124734, 0.63348369, 0.54882052, 0.58085103,\n",
              "       0.90621879, 0.58190969, 0.90848545, 0.56941813, 0.79753911,\n",
              "       0.8891436 , 0.63855007, 0.89805862, 0.61593673, 0.59237548,\n",
              "       0.55725084, 0.92168109, 0.89559771, 0.64053392, 0.57427924,\n",
              "       0.89590034, 0.54398409, 0.89497464, 0.56290312, 0.58475547,\n",
              "       0.66062982, 0.58123719, 0.66075469, 0.8414934 , 0.64689865,\n",
              "       0.63101195, 0.67124604, 0.63575638, 0.59201645, 0.5102708 ,\n",
              "       0.58464022, 0.59828122, 0.60471467, 0.62878843, 0.61041633,\n",
              "       0.63159792, 0.6587505 , 0.6127844 , 0.8734997 , 0.62815647])"
            ]
          },
          "metadata": {},
          "execution_count": 4
        }
      ]
    }
  ]
}