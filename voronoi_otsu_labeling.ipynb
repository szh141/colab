{
  "nbformat": 4,
  "nbformat_minor": 0,
  "metadata": {
    "colab": {
      "provenance": [],
      "authorship_tag": "ABX9TyM2geWsMZ8w4p7o9rDnGF8e",
      "include_colab_link": true
    },
    "kernelspec": {
      "name": "python3",
      "display_name": "Python 3"
    },
    "language_info": {
      "name": "python"
    }
  },
  "cells": [
    {
      "cell_type": "markdown",
      "metadata": {
        "id": "view-in-github",
        "colab_type": "text"
      },
      "source": [
        "<a href=\"https://colab.research.google.com/github/szh141/colab/blob/main/voronoi_otsu_labeling.ipynb\" target=\"_parent\"><img src=\"https://colab.research.google.com/assets/colab-badge.svg\" alt=\"Open In Colab\"/></a>"
      ]
    },
    {
      "cell_type": "markdown",
      "source": [
        "Robert Hasse\n",
        "\n",
        "https://haesleinhuepf.github.io/BioImageAnalysisNotebooks/20_image_segmentation/11_voronoi_otsu_labeling.html?highlight=3d"
      ],
      "metadata": {
        "id": "Nx0qxliATfif"
      }
    },
    {
      "cell_type": "code",
      "execution_count": null,
      "metadata": {
        "id": "zS1lzgguTbw9"
      },
      "outputs": [],
      "source": [
        "sigma_spot_detection = 5\n",
        "sigma_outline = 1\n",
        "\n",
        "segmented = cle.voronoi_otsu_labeling(input_image, spot_sigma=sigma_spot_detection, outline_sigma=sigma_outline)"
      ]
    },
    {
      "cell_type": "markdown",
      "source": [
        "The first sigma controls how close detected cells can be (spot_sigma) and second controls how precise segmented objects are outlined (outline_sigma).\n",
        "\n",
        "1st blur (big sigma), find maxima as seed, 2nd blur (small sigma). seeded watershed on the 2nd blur."
      ],
      "metadata": {
        "id": "DSDS8PZgT-r9"
      }
    }
  ]
}