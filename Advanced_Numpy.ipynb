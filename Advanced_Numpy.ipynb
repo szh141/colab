{
  "nbformat": 4,
  "nbformat_minor": 0,
  "metadata": {
    "colab": {
      "provenance": [],
      "authorship_tag": "ABX9TyPFhu/AciaWZHoCinZMQxtY",
      "include_colab_link": true
    },
    "kernelspec": {
      "name": "python3",
      "display_name": "Python 3"
    },
    "language_info": {
      "name": "python"
    }
  },
  "cells": [
    {
      "cell_type": "markdown",
      "metadata": {
        "id": "view-in-github",
        "colab_type": "text"
      },
      "source": [
        "<a href=\"https://colab.research.google.com/github/szh141/colab/blob/main/Advanced_Numpy.ipynb\" target=\"_parent\"><img src=\"https://colab.research.google.com/assets/colab-badge.svg\" alt=\"Open In Colab\"/></a>"
      ]
    },
    {
      "cell_type": "markdown",
      "source": [
        "https://blog.stackademic.com/numpy-magic-advanced-techniques-and-best-practices-46344dd37031"
      ],
      "metadata": {
        "id": "44VyLztSoaa1"
      }
    },
    {
      "cell_type": "code",
      "execution_count": 2,
      "metadata": {
        "colab": {
          "base_uri": "https://localhost:8080/"
        },
        "id": "2muK2EO7oX8u",
        "outputId": "b92ffc2a-91d5-44c1-d279-e09dbb0f7127"
      },
      "outputs": [
        {
          "output_type": "stream",
          "name": "stdout",
          "text": [
            "[[1 2 3]\n",
            " [4 5 6]\n",
            " [7 8 9]]\n"
          ]
        }
      ],
      "source": [
        "#stacking np.array\n",
        "import numpy as np\n",
        "\n",
        "arr1 = np.array([1, 2, 3])\n",
        "arr2 = np.array([4, 5, 6])\n",
        "arr3 = np.array([7, 8, 9])\n",
        "\n",
        "arr_stacked = np.stack((arr1, arr2, arr3))\n",
        "print(arr_stacked)"
      ]
    },
    {
      "cell_type": "code",
      "source": [
        "#stack horizontally\n",
        "arr_hstacked = np.hstack((arr1, arr2, arr3))\n",
        "print(arr_hstacked)\n"
      ],
      "metadata": {
        "colab": {
          "base_uri": "https://localhost:8080/"
        },
        "id": "ENgulYkQozC0",
        "outputId": "9947c98e-5705-47f2-fa3e-ecc615757c75"
      },
      "execution_count": 3,
      "outputs": [
        {
          "output_type": "stream",
          "name": "stdout",
          "text": [
            "[1 2 3 4 5 6 7 8 9]\n"
          ]
        }
      ]
    },
    {
      "cell_type": "markdown",
      "source": [
        "**Views v/s Copies**\n",
        "When you create a view of an array, you are essentially creating a new array object that references the same memory location as the original array. This means that any changes made to the view will also affect the original array, since they both reference the same data."
      ],
      "metadata": {
        "id": "IGL-JYkwpPab"
      }
    },
    {
      "cell_type": "code",
      "source": [
        "arr = np.array([1, 2, 3, 4, 5])\n",
        "\n",
        "# Create a view of the array\n",
        "arr_view = arr[1:]\n",
        "\n",
        "# Print the original array and the view\n",
        "print(\"Original array:\", arr)\n",
        "print(\"View:\", arr_view)\n",
        "\n",
        "# Modify the view\n",
        "arr_view[0] = 10\n",
        "\n",
        "# Print the original array and the view\n",
        "print(\"Original array:\", arr)\n",
        "print(\"View:\", arr_view)\n"
      ],
      "metadata": {
        "colab": {
          "base_uri": "https://localhost:8080/"
        },
        "id": "BIyxgYCIpQ9c",
        "outputId": "8747c8a5-744d-42a5-8330-eeba5127ff35"
      },
      "execution_count": 4,
      "outputs": [
        {
          "output_type": "stream",
          "name": "stdout",
          "text": [
            "Original array: [1 2 3 4 5]\n",
            "View: [2 3 4 5]\n",
            "Original array: [ 1 10  3  4  5]\n",
            "View: [10  3  4  5]\n"
          ]
        }
      ]
    },
    {
      "cell_type": "markdown",
      "source": [
        "On the other hand, when you create a copy of an array, you are creating a new array object that contains a copy of the data from the original array. This means that any changes made to the copy will not affect the original array, since they are separate arrays with separate data.\n",
        "\n",
        "It is important to note that creating a view of an array is generally faster and uses less memory than creating a copy of an array, since it does not need to allocate new memory for the data. However, creating a view of an array can also be more dangerous, since any changes made to the view will also affect the original array."
      ],
      "metadata": {
        "id": "W6w6UUvuph81"
      }
    },
    {
      "cell_type": "code",
      "source": [
        "# Create a 1-dimensional array with 5 elements\n",
        "arr = np.array([1, 2, 3, 4, 5])\n",
        "\n",
        "# Create a copy of the array\n",
        "arr_copy = arr.copy()\n",
        "\n",
        "# Print the original array and the copy\n",
        "print(\"Original array:\", arr)\n",
        "print(\"Copy:\", arr_copy)\n",
        "\n",
        "# Modify the copy\n",
        "arr_copy[0] = 10\n",
        "\n",
        "# Print the original array and the copy\n",
        "print(\"Original array:\", arr)\n",
        "print(\"Copy:\", arr_copy)"
      ],
      "metadata": {
        "colab": {
          "base_uri": "https://localhost:8080/"
        },
        "id": "a4cVQT3qpoWV",
        "outputId": "6f54f597-450e-46d0-d8f6-a57b034982dc"
      },
      "execution_count": 5,
      "outputs": [
        {
          "output_type": "stream",
          "name": "stdout",
          "text": [
            "Original array: [1 2 3 4 5]\n",
            "Copy: [1 2 3 4 5]\n",
            "Original array: [1 2 3 4 5]\n",
            "Copy: [10  2  3  4  5]\n"
          ]
        }
      ]
    },
    {
      "cell_type": "markdown",
      "source": [
        "**Math and linear algebra**"
      ],
      "metadata": {
        "id": "NgHWvnnzqJYg"
      }
    },
    {
      "cell_type": "code",
      "source": [
        "A = np.array([[1, 2], [3, 4]])\n",
        "B = np.array([[5, 6], [7, 8]])\n",
        "C = np.add(A, B)\n",
        "print(C)"
      ],
      "metadata": {
        "colab": {
          "base_uri": "https://localhost:8080/"
        },
        "id": "UTuPfQYsqMIH",
        "outputId": "67f4dbb5-c110-4f57-daf2-313b4731fe82"
      },
      "execution_count": 6,
      "outputs": [
        {
          "output_type": "stream",
          "name": "stdout",
          "text": [
            "[[ 6  8]\n",
            " [10 12]]\n"
          ]
        }
      ]
    },
    {
      "cell_type": "code",
      "source": [
        "D = np.subtract(A, B)\n",
        "print(D)"
      ],
      "metadata": {
        "colab": {
          "base_uri": "https://localhost:8080/"
        },
        "id": "FMMFLQh8qTGY",
        "outputId": "6ffe00ca-5874-4758-cabe-f5262da8068b"
      },
      "execution_count": 7,
      "outputs": [
        {
          "output_type": "stream",
          "name": "stdout",
          "text": [
            "[[-4 -4]\n",
            " [-4 -4]]\n"
          ]
        }
      ]
    },
    {
      "cell_type": "code",
      "source": [
        "E = np.dot(A, B)\n",
        "print(E)"
      ],
      "metadata": {
        "colab": {
          "base_uri": "https://localhost:8080/"
        },
        "id": "QMaIL0BSqYIX",
        "outputId": "e8f9e473-657a-416b-cd90-5e8c8861cbd3"
      },
      "execution_count": 8,
      "outputs": [
        {
          "output_type": "stream",
          "name": "stdout",
          "text": [
            "[[19 22]\n",
            " [43 50]]\n"
          ]
        }
      ]
    },
    {
      "cell_type": "code",
      "source": [
        "#dot plot is the same as matmul\n",
        "\n",
        "E = np.matmul(A, B)\n",
        "print(E)"
      ],
      "metadata": {
        "colab": {
          "base_uri": "https://localhost:8080/"
        },
        "id": "SMZwQcomqiJm",
        "outputId": "8eb526dc-bb3a-445f-ad56-45a82f07ced9"
      },
      "execution_count": 9,
      "outputs": [
        {
          "output_type": "stream",
          "name": "stdout",
          "text": [
            "[[19 22]\n",
            " [43 50]]\n"
          ]
        }
      ]
    },
    {
      "cell_type": "code",
      "source": [
        "# element-wise\n",
        "\n",
        "E = A*B\n",
        "print(E)"
      ],
      "metadata": {
        "colab": {
          "base_uri": "https://localhost:8080/"
        },
        "id": "mdWRMjrfqqh4",
        "outputId": "2988f89d-5105-4f39-fa74-92fc3f701cc6"
      },
      "execution_count": 10,
      "outputs": [
        {
          "output_type": "stream",
          "name": "stdout",
          "text": [
            "[[ 5 12]\n",
            " [21 32]]\n"
          ]
        }
      ]
    },
    {
      "cell_type": "code",
      "source": [
        "# element-wise\n",
        "\n",
        "F = np.divide(A, B)\n",
        "print(F)"
      ],
      "metadata": {
        "colab": {
          "base_uri": "https://localhost:8080/"
        },
        "id": "0Db_cv8Kq09Q",
        "outputId": "7ca76e88-901f-4f9a-b5f8-956e02294f65"
      },
      "execution_count": 11,
      "outputs": [
        {
          "output_type": "stream",
          "name": "stdout",
          "text": [
            "[[0.2        0.33333333]\n",
            " [0.42857143 0.5       ]]\n"
          ]
        }
      ]
    },
    {
      "cell_type": "code",
      "source": [
        "eigenvalues, eigenvectors = np.linalg.eig(A)\n",
        "print(\"Eigenvalues:\", eigenvalues)\n",
        "print(\"Eigenvectors:\", eigenvectors)"
      ],
      "metadata": {
        "id": "mLvFtLxorAbg",
        "outputId": "1fbb76ac-9770-4b6b-e0de-f533268cef84",
        "colab": {
          "base_uri": "https://localhost:8080/"
        }
      },
      "execution_count": 12,
      "outputs": [
        {
          "output_type": "stream",
          "name": "stdout",
          "text": [
            "Eigenvalues: [-0.37228132  5.37228132]\n",
            "Eigenvectors: [[-0.82456484 -0.41597356]\n",
            " [ 0.56576746 -0.90937671]]\n"
          ]
        }
      ]
    }
  ]
}