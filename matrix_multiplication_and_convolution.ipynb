{
  "nbformat": 4,
  "nbformat_minor": 0,
  "metadata": {
    "colab": {
      "provenance": [],
      "authorship_tag": "ABX9TyOFHXmPwD9lJa0KJ5SVGmMb",
      "include_colab_link": true
    },
    "kernelspec": {
      "name": "python3",
      "display_name": "Python 3"
    },
    "language_info": {
      "name": "python"
    }
  },
  "cells": [
    {
      "cell_type": "markdown",
      "metadata": {
        "id": "view-in-github",
        "colab_type": "text"
      },
      "source": [
        "<a href=\"https://colab.research.google.com/github/szh141/colab/blob/main/matrix_multiplication_and_convolution.ipynb\" target=\"_parent\"><img src=\"https://colab.research.google.com/assets/colab-badge.svg\" alt=\"Open In Colab\"/></a>"
      ]
    },
    {
      "cell_type": "code",
      "source": [
        "import numpy as np"
      ],
      "metadata": {
        "id": "wCXp8IiIY1vz"
      },
      "execution_count": 2,
      "outputs": []
    },
    {
      "cell_type": "code",
      "source": [
        "a2 = np.arange(9)\n",
        "print(np.dot(a2,a2)) #dot product on vector"
      ],
      "metadata": {
        "colab": {
          "base_uri": "https://localhost:8080/"
        },
        "id": "3SEVyphWY8a6",
        "outputId": "74dc7c65-d5c7-45ad-941e-f74a24a59f74"
      },
      "execution_count": 4,
      "outputs": [
        {
          "output_type": "stream",
          "name": "stdout",
          "text": [
            "204\n"
          ]
        }
      ]
    },
    {
      "cell_type": "code",
      "execution_count": 5,
      "metadata": {
        "colab": {
          "base_uri": "https://localhost:8080/"
        },
        "id": "Gi2eaFPmYrLI",
        "outputId": "dcbfcce7-071d-4dd4-b9bd-5a677a42229d"
      },
      "outputs": [
        {
          "output_type": "stream",
          "name": "stdout",
          "text": [
            "[[0 1 2]\n",
            " [3 4 5]\n",
            " [6 7 8]]\n",
            "[[ 0  1  4]\n",
            " [ 9 16 25]\n",
            " [36 49 64]]\n",
            "[[ 15  18  21]\n",
            " [ 42  54  66]\n",
            " [ 69  90 111]]\n",
            "[[ 15  18  21]\n",
            " [ 42  54  66]\n",
            " [ 69  90 111]]\n"
          ]
        }
      ],
      "source": [
        "a1 = np.arange(9).reshape(3,3)\n",
        "print(a1)\n",
        "print(a1*a1) #element-wise multiplication\n",
        "print(np.dot(a1,a1)) #dot product on matrix is the same as below, @ or np.matmul\n",
        "print(a1@a1)"
      ]
    },
    {
      "cell_type": "code",
      "source": [
        "\"\"\"\n",
        "matrix multiplication of higher dimension\n",
        "(510,510,3,4) @ (510,510,4,3) is the 510x510 times multiplications of 3x4 matrix with 4x3 matrix\n",
        "the result is (510,510,3,3) since multiplication of 3x4 matrix with 4x3 matrix yields 3x3\n",
        "\"\"\""
      ],
      "metadata": {
        "id": "O3zqmnF_alTI"
      },
      "execution_count": null,
      "outputs": []
    },
    {
      "cell_type": "code",
      "source": [
        "\"\"\"\n",
        "e.g. sobel_h 3x3 kernel convolution on an image, is windowed_img (510,510,3,3).reshape(510,510,1,9) @ kernl (510,510,3x3).reshape(510,510,9,1)\n",
        "this yields (510,510,1,1), not displayable in matplotlib. Therefore, add the pixel value into 510x510 canvas\n",
        "\n",
        "array2 = np.repeat(kernel[np.newaxis,:,:], repeats=510, axis=0)\n",
        "array3 = np.repeat(array2[np.newaxis,:,:,:], repeats=510, axis=0)\n",
        "array3_2 =array3.reshape(510,510,9,1)\n",
        "\n",
        "here array3_2 is the repeated array of 3x3 sobel_h kernel into 510x510x3x3\n",
        "\n",
        "a5 = windowed_img_2@array3_2\n",
        "a6 = np.zeros((510,510))\n",
        "for i in range(510):\n",
        "  for j in range(510):\n",
        "    a6[i,j] = a5[i,j]\n",
        "\n",
        "plt.imshow(a6>0.07)\n",
        "\"\"\""
      ],
      "metadata": {
        "id": "vzwxxaQbY1Cs"
      },
      "execution_count": null,
      "outputs": []
    }
  ]
}