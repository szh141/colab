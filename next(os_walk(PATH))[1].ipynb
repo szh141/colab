{
  "nbformat": 4,
  "nbformat_minor": 0,
  "metadata": {
    "colab": {
      "provenance": [],
      "mount_file_id": "1Bwr-M7CYZAi6MRfVnIupqGCq9VIP2-gC",
      "authorship_tag": "ABX9TyPkVFnEmvQnHG/ZwBuvcY2n",
      "include_colab_link": true
    },
    "kernelspec": {
      "name": "python3",
      "display_name": "Python 3"
    },
    "language_info": {
      "name": "python"
    }
  },
  "cells": [
    {
      "cell_type": "markdown",
      "metadata": {
        "id": "view-in-github",
        "colab_type": "text"
      },
      "source": [
        "<a href=\"https://colab.research.google.com/github/szh141/colab/blob/main/next(os_walk(PATH))%5B1%5D.ipynb\" target=\"_parent\"><img src=\"https://colab.research.google.com/assets/colab-badge.svg\" alt=\"Open In Colab\"/></a>"
      ]
    },
    {
      "cell_type": "markdown",
      "source": [
        "https://www.youtube.com/watch?v=lbG_VNLUPBQ\n",
        "\n",
        "H dirve has 'Youtube' folder.\n",
        "\n",
        "It has two folders, one file\n",
        "\n",
        "in one folder, has two files\n",
        "\n",
        "in 2nd folder, has one folder (two files and one image) and two files\n"
      ],
      "metadata": {
        "id": "G6mhZaNt5dFM"
      }
    },
    {
      "cell_type": "code",
      "execution_count": 2,
      "metadata": {
        "colab": {
          "base_uri": "https://localhost:8080/"
        },
        "id": "P4BBI0FA5Eih",
        "outputId": "a30d21f1-3422-4b38-e84f-d8cd1c1a25ea"
      },
      "outputs": [
        {
          "output_type": "stream",
          "name": "stdout",
          "text": [
            "<generator object _walk at 0x7bc4797034c0>\n",
            "\n",
            "\n",
            "[('/content/drive/MyDrive/Colab images/Youtube', ['Folder_2', 'Folder_1'], ['summary.csv']), ('/content/drive/MyDrive/Colab images/Youtube/Folder_2', ['Folder_3'], ['summary.csv']), ('/content/drive/MyDrive/Colab images/Youtube/Folder_2/Folder_3', [], ['summary.csv']), ('/content/drive/MyDrive/Colab images/Youtube/Folder_1', [], ['summary.csv'])]\n"
          ]
        }
      ],
      "source": [
        "import os\n",
        "\n",
        "#main = 'r'H:\\Youtube''\n",
        "# or 'H:\\\\Youtube'\n",
        "# or 'H:/Youtube'\n",
        "\n",
        "main = '/content/drive/MyDrive/Colab images/Youtube'\n",
        "\n",
        "print(os.walk(main))\n",
        "print('\\n')\n",
        "# object\n",
        "\n",
        "print(list(os.walk(main)))"
      ]
    },
    {
      "cell_type": "markdown",
      "source": [
        "A list of tuple"
      ],
      "metadata": {
        "id": "3mciQ0MZ7XWt"
      }
    },
    {
      "cell_type": "code",
      "source": [
        "print(list(os.walk(main))[0][1])"
      ],
      "metadata": {
        "colab": {
          "base_uri": "https://localhost:8080/"
        },
        "id": "8VaWKt7R715q",
        "outputId": "a4f9afe2-6c77-47ac-b94c-c6e919a26e38"
      },
      "execution_count": 4,
      "outputs": [
        {
          "output_type": "stream",
          "name": "stdout",
          "text": [
            "['Folder_2', 'Folder_1']\n"
          ]
        }
      ]
    },
    {
      "cell_type": "code",
      "source": [
        "for root,dirs,files in os.walk(main):\n",
        "  print(root)\n",
        "  print(dirs)\n",
        "  print(files)\n",
        "  print('=========================')"
      ],
      "metadata": {
        "colab": {
          "base_uri": "https://localhost:8080/"
        },
        "id": "XDo5Wzue7eXE",
        "outputId": "b2977b31-2eab-47f3-a985-b9a5eb5e5102"
      },
      "execution_count": 3,
      "outputs": [
        {
          "output_type": "stream",
          "name": "stdout",
          "text": [
            "/content/drive/MyDrive/Colab images/Youtube\n",
            "['Folder_2', 'Folder_1']\n",
            "['summary.csv']\n",
            "=========================\n",
            "/content/drive/MyDrive/Colab images/Youtube/Folder_2\n",
            "['Folder_3']\n",
            "['summary.csv']\n",
            "=========================\n",
            "/content/drive/MyDrive/Colab images/Youtube/Folder_2/Folder_3\n",
            "[]\n",
            "['summary.csv']\n",
            "=========================\n",
            "/content/drive/MyDrive/Colab images/Youtube/Folder_1\n",
            "[]\n",
            "['summary.csv']\n",
            "=========================\n"
          ]
        }
      ]
    }
  ]
}