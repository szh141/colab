{
  "nbformat": 4,
  "nbformat_minor": 0,
  "metadata": {
    "colab": {
      "provenance": [],
      "authorship_tag": "ABX9TyObkAILiePjKQW850UIEmEd",
      "include_colab_link": true
    },
    "kernelspec": {
      "name": "python3",
      "display_name": "Python 3"
    },
    "language_info": {
      "name": "python"
    }
  },
  "cells": [
    {
      "cell_type": "markdown",
      "metadata": {
        "id": "view-in-github",
        "colab_type": "text"
      },
      "source": [
        "<a href=\"https://colab.research.google.com/github/szh141/colab/blob/main/Point_operation_Image_preprocessing.ipynb\" target=\"_parent\"><img src=\"https://colab.research.google.com/assets/colab-badge.svg\" alt=\"Open In Colab\"/></a>"
      ]
    },
    {
      "cell_type": "markdown",
      "source": [
        "https://medium.com/@sumit-kr-sharma/point-operations-for-image-preprocessing-in-computer-vision-4b3b93050dfe\n",
        "\n",
        "Advantages of point operations\n",
        "Simple and Fast:\n",
        "\n",
        "Point operations are computationally efficient and straightforward to implement, making them fast for real-time applications.\n",
        "Localized Processing:\n",
        "\n",
        "Point operations operate independently on each pixel, allowing for localized and pixel-wise adjustments without considering neighboring pixels.\n",
        "Enhanced Contrast and Visibility:\n",
        "\n",
        "Contrast enhancement techniques, such as contrast stretching and histogram equalization, improve the visual quality of images by increasing the dynamic range.\n",
        "Brightness Adjustment:\n",
        "\n",
        "Point operations facilitate easy adjustment of image brightness, which is useful for compensating variations in lighting conditions.\n",
        "Flexibility:\n",
        "\n",
        "Point operations can be combined and customized to achieve specific preprocessing goals, offering flexibility in addressing different image characteristics.\n",
        "Compatibility:\n",
        "\n",
        "Point operations are compatible with a wide range of image processing algorithms and computer vision tasks.\n",
        "Disadvantages of point operations\n",
        "Global Adjustments:\n",
        "\n",
        "Point operations often apply global adjustments to the entire image, which may not be suitable for images with diverse content and lighting conditions.\n",
        "Sensitivity to Outliers:\n",
        "\n",
        "Some point operations, especially those involving linear transformations, can be sensitive to outliers or extreme pixel values.\n",
        "Limited Spatial Information:\n",
        "\n",
        "Point operations do not consider spatial relationships between pixels, which may limit their effectiveness in certain tasks that require contextual information.\n",
        "Loss of Information:\n",
        "\n",
        "Aggressive contrast adjustments or thresholding can lead to a loss of subtle details or information in the image.\n",
        "Adaptability:\n",
        "\n",
        "Point operations might not adapt well to complex image structures or varying illumination conditions, requiring additional preprocessing steps.\n",
        "Not Always Appropriate:\n",
        "\n",
        "Point operations may not be suitable for all image processing tasks, particularly when more advanced techniques such as convolution or morphological operations are required.\n",
        "Subjective Parameters:\n",
        "\n",
        "Some point operation parameters, like threshold values or gamma correction factors, may be subjective and require careful tuning.\n",
        "Color Handling:\n",
        "\n",
        "When working with color images, point operations might not adequately address color variations, and more advanced color correction techniques may be necessary."
      ],
      "metadata": {
        "id": "egTAI3kvyVQk"
      }
    },
    {
      "cell_type": "code",
      "source": [
        "from skimage import io\n",
        "#skimage exposure has module to do this as well\n",
        "import numpy as np\n",
        "\n",
        "def contrast_stretching(image):\n",
        "min_val = np.min(image)\n",
        "max_val = np.max(image)\n",
        "transformed_image = ((image — min_val) / (max_val — min_val)) * 255\n",
        "return transformed_image.astype(np.uint8)\n",
        "\n",
        "def gamma_correction(image, gamma=1.5):\n",
        "gamma_corrected_image = np.power(image / 255.0, gamma) * 255\n",
        "return gamma_corrected_image.astype(np.uint8)\n",
        "\n",
        "# Load an example image\n",
        "image_original = io.imread(‘example_image.jpg’)\n",
        "image = color.rgb2gray(image_original)\n",
        "\n",
        "# Apply contrast stretching\n",
        "contrast_stretched_image = contrast_stretching(image)\n",
        "\n",
        "# Apply gamma correction\n",
        "gamma_corrected_image = gamma_correction(image, gamma=1.5)"
      ],
      "metadata": {
        "id": "1bvGVcsjygUb"
      },
      "execution_count": null,
      "outputs": []
    }
  ]
}