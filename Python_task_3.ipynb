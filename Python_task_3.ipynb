{
  "nbformat": 4,
  "nbformat_minor": 0,
  "metadata": {
    "colab": {
      "provenance": [],
      "authorship_tag": "ABX9TyOYGO+ecZPSRdKBesJilNCc",
      "include_colab_link": true
    },
    "kernelspec": {
      "name": "python3",
      "display_name": "Python 3"
    },
    "language_info": {
      "name": "python"
    }
  },
  "cells": [
    {
      "cell_type": "markdown",
      "metadata": {
        "id": "view-in-github",
        "colab_type": "text"
      },
      "source": [
        "<a href=\"https://colab.research.google.com/github/szh141/colab/blob/main/Python_task_3.ipynb\" target=\"_parent\"><img src=\"https://colab.research.google.com/assets/colab-badge.svg\" alt=\"Open In Colab\"/></a>"
      ]
    },
    {
      "cell_type": "markdown",
      "source": [
        "**Python Control Flow:**\n",
        "Write a Python program using control flow statements to find the **factorial** of a number. 阶乘"
      ],
      "metadata": {
        "id": "RoW9WBjMlanY"
      }
    },
    {
      "cell_type": "code",
      "execution_count": 8,
      "metadata": {
        "colab": {
          "base_uri": "https://localhost:8080/"
        },
        "id": "59xC2laOk2gq",
        "outputId": "bf8a6cf7-b690-4791-9341-3140ba5d8ba8"
      },
      "outputs": [
        {
          "output_type": "stream",
          "name": "stdout",
          "text": [
            "Factorial of 5 is 120\n"
          ]
        }
      ],
      "source": [
        "# Function to calculate the factorial of a number\n",
        "def factorial(n):\n",
        "    if n < 0:\n",
        "        return \"Factorial is not defined for negative numbers.\"\n",
        "    elif n == 0:\n",
        "        return 1\n",
        "    else:\n",
        "        result = 1\n",
        "        while n > 0:\n",
        "            result *= n\n",
        "            n -= 1\n",
        "        return result\n",
        "\n",
        "# Calculate and print the factorial of a number (e.g., 5)\n",
        "number = 5\n",
        "fact = factorial(number)\n",
        "print(f\"Factorial of {number} is {fact}\")"
      ]
    },
    {
      "cell_type": "markdown",
      "source": [
        "**Python Comprehensions:**\n",
        "Create a list comprehension to generate a list of squares of numbers from 1 to 10."
      ],
      "metadata": {
        "id": "MICjbvlbmRAy"
      }
    },
    {
      "cell_type": "code",
      "source": [
        "list_a = [X**2 for X in range(1,11)] # if range(11) will include 0\n",
        "list_a"
      ],
      "metadata": {
        "colab": {
          "base_uri": "https://localhost:8080/"
        },
        "id": "sE0WDQ2IlsSi",
        "outputId": "3f098693-21af-4882-a969-c104ec9a9e5b"
      },
      "execution_count": 14,
      "outputs": [
        {
          "output_type": "execute_result",
          "data": {
            "text/plain": [
              "[1, 4, 9, 16, 25, 36, 49, 64, 81, 100]"
            ]
          },
          "metadata": {},
          "execution_count": 14
        }
      ]
    },
    {
      "cell_type": "markdown",
      "source": [
        "**Python Strings:**\n",
        "Write a function that takes a string and returns the reversed string."
      ],
      "metadata": {
        "id": "LEp-WNtWm9BD"
      }
    },
    {
      "cell_type": "code",
      "source": [
        "# Function to reverse a string\n",
        "def reverse_string(input_string):\n",
        "    return input_string[::-1]\n",
        "\n",
        "# Example usage:\n",
        "original_string = \"Hello, World!\"\n",
        "reversed_string = reverse_string(original_string)\n",
        "print(\"Original String:\", original_string)\n",
        "print(\"Reversed String:\", reversed_string)"
      ],
      "metadata": {
        "colab": {
          "base_uri": "https://localhost:8080/"
        },
        "id": "W4m2jfOtmivj",
        "outputId": "ce8c12c0-9b03-4ef6-9426-b9a65a2ca1c7"
      },
      "execution_count": 19,
      "outputs": [
        {
          "output_type": "stream",
          "name": "stdout",
          "text": [
            "Original String: Hello, World!\n",
            "Reversed String: !dlroW ,olleH\n"
          ]
        }
      ]
    },
    {
      "cell_type": "markdown",
      "source": [
        "**Python Inheritance:**\n",
        "\n",
        "Create a base class called “Animal” with common attributes and methods.\n",
        "\n",
        "Create subclasses like “Dog” and “Cat” that inherit from the “Animal” class"
      ],
      "metadata": {
        "id": "0y6YjcwCnybx"
      }
    },
    {
      "cell_type": "code",
      "source": [
        "# Define the base class \"Animal\"\n",
        "class Animal:\n",
        "    def __init__(self, name, species):\n",
        "        self.name = name\n",
        "        self.species = species\n",
        "\n",
        "    def make_sound(self):\n",
        "        pass  # Placeholder method for making a sound\n",
        "\n",
        "    def describe(self):\n",
        "        print(f\"I am a {self.species} named {self.name}.\")\n",
        "\n",
        "# Create a subclass \"Dog\" that inherits from \"Animal\"\n",
        "class Dog(Animal):\n",
        "    def __init__(self, name, breed):\n",
        "        super().__init__(name, species=\"Dog\")\n",
        "        self.breed = breed\n",
        "\n",
        "    def make_sound(self):\n",
        "        return \"Woof!\"\n",
        "\n",
        "    def describe(self):\n",
        "        super().describe()\n",
        "        print(f\"I am a {self.breed} dog.\")\n",
        "\n",
        "# Create a subclass \"Cat\" that inherits from \"Animal\"\n",
        "class Cat(Animal):\n",
        "    def __init__(self, name, color):\n",
        "        super().__init__(name, species=\"Cat\")\n",
        "        self.color = color\n",
        "\n",
        "    def make_sound(self):\n",
        "        return \"Meow!\"\n",
        "\n",
        "    def describe(self):\n",
        "        super().describe()\n",
        "        print(f\"I am a {self.color} cat.\")\n",
        "\n",
        "# Create instances of \"Dog\" and \"Cat\"\n",
        "dog = Dog(\"Buddy\", \"Golden Retriever\")\n",
        "cat = Cat(\"Whiskers\", \"Gray\")\n",
        "\n",
        "# Describe and make sounds of the animals\n",
        "dog.describe()\n",
        "print(dog.make_sound())  # Output: Woof!\n",
        "print()\n",
        "\n",
        "cat.describe()\n",
        "print(cat.make_sound())  # Output: Meow!\n"
      ],
      "metadata": {
        "colab": {
          "base_uri": "https://localhost:8080/"
        },
        "id": "0j8z-EEEnyIY",
        "outputId": "49b439fa-3cb2-49e7-aabe-a568b687474e"
      },
      "execution_count": 20,
      "outputs": [
        {
          "output_type": "stream",
          "name": "stdout",
          "text": [
            "I am a Dog named Buddy.\n",
            "I am a Golden Retriever dog.\n",
            "Woof!\n",
            "\n",
            "I am a Cat named Whiskers.\n",
            "I am a Gray cat.\n",
            "Meow!\n"
          ]
        }
      ]
    }
  ]
}