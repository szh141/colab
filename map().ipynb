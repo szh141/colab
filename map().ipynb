{
  "nbformat": 4,
  "nbformat_minor": 0,
  "metadata": {
    "colab": {
      "provenance": [],
      "authorship_tag": "ABX9TyP/cKFUpT0TqctpJyV2a//w",
      "include_colab_link": true
    },
    "kernelspec": {
      "name": "python3",
      "display_name": "Python 3"
    },
    "language_info": {
      "name": "python"
    }
  },
  "cells": [
    {
      "cell_type": "markdown",
      "metadata": {
        "id": "view-in-github",
        "colab_type": "text"
      },
      "source": [
        "<a href=\"https://colab.research.google.com/github/szh141/colab/blob/main/map().ipynb\" target=\"_parent\"><img src=\"https://colab.research.google.com/assets/colab-badge.svg\" alt=\"Open In Colab\"/></a>"
      ]
    },
    {
      "cell_type": "markdown",
      "source": [
        "https://realpython.com/python-map-function/#:~:text=map()%20is%20useful%20when,functional%20programming%20style%20in%20Python.\n",
        "\n",
        "Python’s map() is a built-in function that allows you to process and transform all the items in an iterable without using an explicit for loop, a technique commonly known as mapping."
      ],
      "metadata": {
        "id": "YQ_wweQ6qGZS"
      }
    },
    {
      "cell_type": "code",
      "execution_count": 1,
      "metadata": {
        "colab": {
          "base_uri": "https://localhost:8080/"
        },
        "id": "C1Yi-ZnLp4hB",
        "outputId": "fffbc75d-5e67-492a-8f99-e5b8a5e3623f"
      },
      "outputs": [
        {
          "output_type": "execute_result",
          "data": {
            "text/plain": [
              "[1, 4, 9, 16, 25]"
            ]
          },
          "metadata": {},
          "execution_count": 1
        }
      ],
      "source": [
        "numbers = [1, 2, 3, 4, 5]\n",
        "squared = []\n",
        "\n",
        "for num in numbers:\n",
        "  squared.append(num ** 2)\n",
        "\n",
        "squared"
      ]
    },
    {
      "cell_type": "code",
      "source": [
        "def square(number):\n",
        "  return number ** 2\n",
        "\n",
        "numbers = [1, 2, 3, 4, 5]\n",
        "\n",
        "squared = map(square, numbers)\n",
        "\n",
        "list(squared)\n",
        "#Since map() returns an iterator (a map object), you’ll need call list() so that you can exhaust the iterator and turn it into a list object."
      ],
      "metadata": {
        "colab": {
          "base_uri": "https://localhost:8080/"
        },
        "id": "NFGShgrQq0Lm",
        "outputId": "51034f1f-4513-4f6a-c442-4c13543c7131"
      },
      "execution_count": 2,
      "outputs": [
        {
          "output_type": "execute_result",
          "data": {
            "text/plain": [
              "[1, 4, 9, 16, 25]"
            ]
          },
          "metadata": {},
          "execution_count": 2
        }
      ]
    },
    {
      "cell_type": "markdown",
      "source": [
        "Since map() is written in C and is highly optimized, its internal implied loop can be more efficient than a regular Python for loop. This is one advantage of using map().\n",
        "\n",
        "A second advantage of using map() is related to memory consumption. With a for loop, you need to store the whole list in your system’s memory. With map(), you get items on demand, and only one item is in your system’s memory at a given time."
      ],
      "metadata": {
        "id": "WHdg_Ph4rMaW"
      }
    },
    {
      "cell_type": "code",
      "source": [
        "str_nums = [\"4\", \"8\", \"6\", \"5\", \"3\", \"2\", \"8\", \"9\", \"2\", \"5\"]\n",
        "\n",
        "int_nums = map(int, str_nums)\n",
        "int_nums\n",
        "\n",
        "print(list(int_nums))\n",
        "\n",
        "str_nums"
      ],
      "metadata": {
        "colab": {
          "base_uri": "https://localhost:8080/"
        },
        "id": "L-nucfTksaUu",
        "outputId": "97563faf-ff1f-43e7-c3a9-e4c149a77214"
      },
      "execution_count": 6,
      "outputs": [
        {
          "output_type": "stream",
          "name": "stdout",
          "text": [
            "[4, 8, 6, 5, 3, 2, 8, 9, 2, 5]\n"
          ]
        },
        {
          "output_type": "execute_result",
          "data": {
            "text/plain": [
              "['4', '8', '6', '5', '3', '2', '8', '9', '2', '5']"
            ]
          },
          "metadata": {},
          "execution_count": 6
        }
      ]
    },
    {
      "cell_type": "code",
      "source": [
        "int(str_nums)"
      ],
      "metadata": {
        "colab": {
          "base_uri": "https://localhost:8080/",
          "height": 141
        },
        "id": "NsmU3TlosqPn",
        "outputId": "4aaac574-70d7-4ef8-d5e2-e2c69d18e7ab"
      },
      "execution_count": 7,
      "outputs": [
        {
          "output_type": "error",
          "ename": "TypeError",
          "evalue": "int() argument must be a string, a bytes-like object or a real number, not 'list'",
          "traceback": [
            "\u001b[0;31m---------------------------------------------------------------------------\u001b[0m",
            "\u001b[0;31mTypeError\u001b[0m                                 Traceback (most recent call last)",
            "\u001b[0;32m<ipython-input-7-82812746481d>\u001b[0m in \u001b[0;36m<cell line: 1>\u001b[0;34m()\u001b[0m\n\u001b[0;32m----> 1\u001b[0;31m \u001b[0mint\u001b[0m\u001b[0;34m(\u001b[0m\u001b[0mstr_nums\u001b[0m\u001b[0;34m)\u001b[0m\u001b[0;34m\u001b[0m\u001b[0;34m\u001b[0m\u001b[0m\n\u001b[0m",
            "\u001b[0;31mTypeError\u001b[0m: int() argument must be a string, a bytes-like object or a real number, not 'list'"
          ]
        }
      ]
    },
    {
      "cell_type": "code",
      "source": [
        "# some more examples\n",
        "words = [\"Welcome\", \"to\", \"Real\", \"Python\"]\n",
        "list(map(len, words))"
      ],
      "metadata": {
        "colab": {
          "base_uri": "https://localhost:8080/"
        },
        "id": "wAxWCZettC55",
        "outputId": "55b608a5-225e-4f93-f725-c96cdbdfc991"
      },
      "execution_count": 8,
      "outputs": [
        {
          "output_type": "execute_result",
          "data": {
            "text/plain": [
              "[7, 2, 4, 6]"
            ]
          },
          "metadata": {},
          "execution_count": 8
        }
      ]
    },
    {
      "cell_type": "code",
      "source": [
        "first_it = [1, 2, 3]\n",
        "second_it = [4, 5, 6, 7]\n",
        "\n",
        "list(map(pow, first_it, second_it))\n",
        "#whichever is shortest"
      ],
      "metadata": {
        "colab": {
          "base_uri": "https://localhost:8080/"
        },
        "id": "WxbwOeUTtJZ5",
        "outputId": "02c79297-42e3-49af-9b01-c1ff15dc6362"
      },
      "execution_count": 9,
      "outputs": [
        {
          "output_type": "execute_result",
          "data": {
            "text/plain": [
              "[1, 32, 729]"
            ]
          },
          "metadata": {},
          "execution_count": 9
        }
      ]
    }
  ]
}