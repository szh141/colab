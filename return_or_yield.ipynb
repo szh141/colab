{
  "nbformat": 4,
  "nbformat_minor": 0,
  "metadata": {
    "colab": {
      "provenance": [],
      "authorship_tag": "ABX9TyP5PogW0sNleFxFhmR6q1Qw",
      "include_colab_link": true
    },
    "kernelspec": {
      "name": "python3",
      "display_name": "Python 3"
    },
    "language_info": {
      "name": "python"
    }
  },
  "cells": [
    {
      "cell_type": "markdown",
      "metadata": {
        "id": "view-in-github",
        "colab_type": "text"
      },
      "source": [
        "<a href=\"https://colab.research.google.com/github/szh141/colab/blob/main/return_or_yield.ipynb\" target=\"_parent\"><img src=\"https://colab.research.google.com/assets/colab-badge.svg\" alt=\"Open In Colab\"/></a>"
      ]
    },
    {
      "cell_type": "markdown",
      "source": [
        "To return or to yield a list from a function\n",
        "\n",
        "https://medium.com/@antongw1p/python-basics-return-list-or-yield-c99d0abdb787"
      ],
      "metadata": {
        "id": "7xoCP1zT1SeS"
      }
    },
    {
      "cell_type": "code",
      "source": [
        "\n",
        "\n",
        "def gen_list(up_limit):\n",
        "  result = []\n",
        "  for i in range(up_limit+1):\n",
        "    result.append(i**2)\n",
        "  return result\n",
        "\n",
        "a = gen_list(10)\n",
        "print(a)"
      ],
      "metadata": {
        "colab": {
          "base_uri": "https://localhost:8080/"
        },
        "id": "nqYukPaI1PSL",
        "outputId": "0ad165ff-5373-4977-b25d-3ff5c1c578c0"
      },
      "execution_count": 4,
      "outputs": [
        {
          "output_type": "stream",
          "name": "stdout",
          "text": [
            "[0, 1, 4, 9, 16, 25, 36, 49, 64, 81, 100]\n"
          ]
        }
      ]
    },
    {
      "cell_type": "markdown",
      "source": [
        "Functions returning lists are like efficient librarians, handing you an entire catalog of data at once. This approach is suitable when you need the entirety of your sequence upfront.\n",
        "\n",
        "This means that you must have enough memory to store the entire list. But what if you want to generate a sequence with millions of items in it?\n",
        "\n",
        "**Generators: On-Demand Value Generation**"
      ],
      "metadata": {
        "id": "Cjc-VyPu2Lx6"
      }
    },
    {
      "cell_type": "code",
      "execution_count": 8,
      "metadata": {
        "colab": {
          "base_uri": "https://localhost:8080/"
        },
        "id": "wA0XlHPw1Kri",
        "outputId": "1e503424-f414-4751-aebb-8755fb7418d8"
      },
      "outputs": [
        {
          "output_type": "stream",
          "name": "stdout",
          "text": [
            "0\n",
            "1\n",
            "4\n",
            "9\n",
            "16\n",
            "25\n",
            "36\n",
            "49\n",
            "64\n",
            "81\n",
            "100\n"
          ]
        }
      ],
      "source": [
        "# Example of a function returning a generator\n",
        "# don't need an empty list to start with\n",
        "\n",
        "def yield_values(limit):\n",
        "  for i in range(limit+1):\n",
        "        yield i**2\n",
        "\n",
        "# Generating values on demand\n",
        "my_gen = yield_values(10)\n",
        "for num in my_gen:\n",
        "    print(num)\n",
        "\n",
        "# print(my_gen) wont' work\n",
        "# cannot print a generator, but only the elements in the generator"
      ]
    }
  ]
}