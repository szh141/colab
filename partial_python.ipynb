{
  "nbformat": 4,
  "nbformat_minor": 0,
  "metadata": {
    "colab": {
      "provenance": [],
      "authorship_tag": "ABX9TyMb1Uv7ZZDV7rcAwpl4wH5h",
      "include_colab_link": true
    },
    "kernelspec": {
      "name": "python3",
      "display_name": "Python 3"
    },
    "language_info": {
      "name": "python"
    }
  },
  "cells": [
    {
      "cell_type": "markdown",
      "metadata": {
        "id": "view-in-github",
        "colab_type": "text"
      },
      "source": [
        "<a href=\"https://colab.research.google.com/github/szh141/colab/blob/main/partial_python.ipynb\" target=\"_parent\"><img src=\"https://colab.research.google.com/assets/colab-badge.svg\" alt=\"Open In Colab\"/></a>"
      ]
    },
    {
      "cell_type": "markdown",
      "source": [
        "https://stackoverflow.com/questions/15331726/how-does-functools-partial-do-what-it-does\n",
        "\n",
        "from functools import partial\n",
        "\n",
        "sort coordinates based on its distance to a target"
      ],
      "metadata": {
        "id": "oW761g58-6m9"
      }
    },
    {
      "cell_type": "markdown",
      "source": [
        "suppose you want to sort some data by each data point's distance from some target:"
      ],
      "metadata": {
        "id": "H_1atoYR-2tK"
      }
    },
    {
      "cell_type": "code",
      "execution_count": 10,
      "metadata": {
        "colab": {
          "base_uri": "https://localhost:8080/"
        },
        "id": "L6Q6KUZn9e3f",
        "outputId": "f2a5b870-c37a-4665-baba-aaac05c25704"
      },
      "outputs": [
        {
          "output_type": "stream",
          "name": "stdout",
          "text": [
            "[(7, 6), (10, 0), (3, 5), (10, 4), (10, 4), (2, 10), (5, 8), (3, 8), (3, 10), (2, 3)]\n",
            "1.4142135623730951\n"
          ]
        }
      ],
      "source": [
        "# create some data\n",
        "import random as RND\n",
        "fnx = lambda: RND.randint(0, 10)\n",
        "data = [ (fnx(), fnx()) for c in range(10) ]\n",
        "target = (2, 4)\n",
        "print(data)\n",
        "\n",
        "import math\n",
        "def euclid_dist(v1, v2):\n",
        "    x1, y1 = v1\n",
        "    x2, y2 = v2\n",
        "    return math.sqrt((x2 - x1)**2 + (y2 - y1)**2)\n",
        "\n",
        "print(euclid_dist((1,1),(2,2)))"
      ]
    },
    {
      "cell_type": "markdown",
      "source": [
        "To sort this data by distance from the target, what you would like to do of course is this:\n",
        "\n",
        "data.sort(key=euclid_dist)\n",
        "\n",
        "but you can't--the sort method's key parameter only accepts functions that take a single argument."
      ],
      "metadata": {
        "id": "FLMrUP3M_9no"
      }
    },
    {
      "cell_type": "code",
      "source": [
        "data.sort(key=euclid_dist)"
      ],
      "metadata": {
        "colab": {
          "base_uri": "https://localhost:8080/",
          "height": 144
        },
        "id": "QDqc7TYVADep",
        "outputId": "08400412-88de-4ec4-9c3b-28fcdaf3a50e"
      },
      "execution_count": 12,
      "outputs": [
        {
          "output_type": "error",
          "ename": "TypeError",
          "evalue": "euclid_dist() missing 1 required positional argument: 'v2'",
          "traceback": [
            "\u001b[0;31m---------------------------------------------------------------------------\u001b[0m",
            "\u001b[0;31mTypeError\u001b[0m                                 Traceback (most recent call last)",
            "\u001b[0;32m<ipython-input-12-6981b2d71e10>\u001b[0m in \u001b[0;36m<cell line: 1>\u001b[0;34m()\u001b[0m\n\u001b[0;32m----> 1\u001b[0;31m \u001b[0mdata\u001b[0m\u001b[0;34m.\u001b[0m\u001b[0msort\u001b[0m\u001b[0;34m(\u001b[0m\u001b[0mkey\u001b[0m\u001b[0;34m=\u001b[0m\u001b[0meuclid_dist\u001b[0m\u001b[0;34m)\u001b[0m\u001b[0;34m\u001b[0m\u001b[0;34m\u001b[0m\u001b[0m\n\u001b[0m",
            "\u001b[0;31mTypeError\u001b[0m: euclid_dist() missing 1 required positional argument: 'v2'"
          ]
        }
      ]
    },
    {
      "cell_type": "markdown",
      "source": [
        "to solve this, one way is to re-define euclid_dist to:\n",
        "\n",
        "def euclid_dist(v1):\n",
        "\n",
        "    x1, y1 = v1\n",
        "    x2, y2 = target\n",
        "    return math.sqrt((x2 - x1)**2 + (y2 - y1)**2)"
      ],
      "metadata": {
        "id": "qm8hxpbcAMZU"
      }
    },
    {
      "cell_type": "code",
      "source": [
        "def euclid_dist(v1):\n",
        "\n",
        "    x1, y1 = v1\n",
        "    x2, y2 = target\n",
        "    return math.sqrt((x2 - x1)**2 + (y2 - y1)**2)\n",
        "\n",
        "data.sort(key=euclid_dist)\n",
        "\n",
        "data"
      ],
      "metadata": {
        "colab": {
          "base_uri": "https://localhost:8080/"
        },
        "id": "naA9vDybAebT",
        "outputId": "fbf68b1c-e78e-43b1-9641-95000c2b9275"
      },
      "execution_count": 15,
      "outputs": [
        {
          "output_type": "execute_result",
          "data": {
            "text/plain": [
              "[(2, 3),\n",
              " (3, 5),\n",
              " (3, 8),\n",
              " (5, 8),\n",
              " (7, 6),\n",
              " (2, 10),\n",
              " (3, 10),\n",
              " (10, 4),\n",
              " (10, 4),\n",
              " (10, 0)]"
            ]
          },
          "metadata": {},
          "execution_count": 15
        }
      ]
    },
    {
      "cell_type": "code",
      "source": [
        "# the other way is to use \"partial\"\n",
        "\n",
        "import random as RND\n",
        "fnx = lambda: RND.randint(0, 10)\n",
        "data = [ (fnx(), fnx()) for c in range(10) ]\n",
        "target = (2, 4)\n",
        "\n",
        "import math\n",
        "def euclid_dist(v1, v2):\n",
        "    x1, y1 = v1\n",
        "    x2, y2 = v2\n",
        "    return math.sqrt((x2 - x1)**2 + (y2 - y1)**2)\n",
        "\n",
        "from functools import partial\n",
        "p_euclid_dist = partial(euclid_dist, target)\n",
        "\n",
        "data.sort(key=p_euclid_dist)\n",
        "\n",
        "for p in data:\n",
        "  print(p_euclid_dist(p))"
      ],
      "metadata": {
        "colab": {
          "base_uri": "https://localhost:8080/"
        },
        "id": "RsnmQua_As8F",
        "outputId": "e5b8a650-86d4-4cd3-ff3b-0b5c6de25f2f"
      },
      "execution_count": 16,
      "outputs": [
        {
          "output_type": "stream",
          "name": "stdout",
          "text": [
            "2.0\n",
            "2.23606797749979\n",
            "5.0\n",
            "5.830951894845301\n",
            "6.0\n",
            "6.4031242374328485\n",
            "6.4031242374328485\n",
            "6.708203932499369\n",
            "8.06225774829855\n",
            "8.246211251235321\n"
          ]
        }
      ]
    }
  ]
}