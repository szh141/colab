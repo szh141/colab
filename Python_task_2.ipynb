{
  "nbformat": 4,
  "nbformat_minor": 0,
  "metadata": {
    "colab": {
      "provenance": [],
      "authorship_tag": "ABX9TyNb1mMvefrBNJyUe+BQBsbo",
      "include_colab_link": true
    },
    "kernelspec": {
      "name": "python3",
      "display_name": "Python 3"
    },
    "language_info": {
      "name": "python"
    }
  },
  "cells": [
    {
      "cell_type": "markdown",
      "metadata": {
        "id": "view-in-github",
        "colab_type": "text"
      },
      "source": [
        "<a href=\"https://colab.research.google.com/github/szh141/colab/blob/main/Python_task_2.ipynb\" target=\"_parent\"><img src=\"https://colab.research.google.com/assets/colab-badge.svg\" alt=\"Open In Colab\"/></a>"
      ]
    },
    {
      "cell_type": "markdown",
      "source": [
        "**Python Lists and Tuples:**"
      ],
      "metadata": {
        "id": "M7mKdRwAHo2a"
      }
    },
    {
      "cell_type": "code",
      "execution_count": 1,
      "metadata": {
        "colab": {
          "base_uri": "https://localhost:8080/"
        },
        "id": "yZvs8CAIHj8h",
        "outputId": "22c83d56-a01b-4a97-d96f-55eb8302e635"
      },
      "outputs": [
        {
          "output_type": "stream",
          "name": "stdout",
          "text": [
            "Sorted Numbers: [1, 2, 5, 7, 9]\n"
          ]
        }
      ],
      "source": [
        "# Create a list of numbers\n",
        "numbers = [5, 2, 9, 1, 7]\n",
        "\n",
        "# Sort the list in ascending order\n",
        "sorted_numbers = sorted(numbers)\n",
        "\n",
        "# Print the sorted list\n",
        "print(\"Sorted Numbers:\", sorted_numbers)"
      ]
    },
    {
      "cell_type": "code",
      "source": [
        "# Create a tuple containing names of fruits\n",
        "fruits = (\"apple\", \"banana\", \"cherry\", \"date\", \"fig\")\n",
        "\n",
        "# Function to search for a specific fruit in the tuple\n",
        "def search_fruit(fruit_name, fruit_tuple):\n",
        "    if fruit_name in fruit_tuple:\n",
        "        return f\"{fruit_name} is in the list of fruits.\"\n",
        "    else:\n",
        "        return f\"{fruit_name} is not in the list of fruits.\"\n",
        "\n",
        "# Example usage:\n",
        "search_result = search_fruit(\"banana\", fruits)\n",
        "print(search_result)  # Output: banana is in the list of fruits.\n",
        "\n",
        "search_result = search_fruit(\"egg\", fruits)\n",
        "print(search_result)  # Output: banana is in the list of fruits."
      ],
      "metadata": {
        "colab": {
          "base_uri": "https://localhost:8080/"
        },
        "id": "IoZVxWQmH18S",
        "outputId": "b1c77208-8b48-4325-d6b7-de960d4e1acc"
      },
      "execution_count": 3,
      "outputs": [
        {
          "output_type": "stream",
          "name": "stdout",
          "text": [
            "banana is in the list of fruits.\n",
            "egg is not in the list of fruits.\n"
          ]
        }
      ]
    },
    {
      "cell_type": "markdown",
      "source": [
        "**Python Regular Expression Usage**\n",
        "\n",
        "Write a Python program that uses regular expressions to validate email addresses.\n",
        "\n",
        "Use regular expressions to extract all phone numbers from a given text."
      ],
      "metadata": {
        "id": "1cUCQFwkIJEc"
      }
    },
    {
      "cell_type": "code",
      "source": [
        "import re\n",
        "\n",
        "# Regular expression pattern for validating email addresses\n",
        "email_pattern = r'^[a-zA-Z0-9._%+-]+@[a-zA-Z0-9.-]+\\.[a-zA-Z]{2,}$'\n",
        "\n",
        "# Regular expression pattern for extracting phone numbers (assuming a basic pattern)\n",
        "phone_pattern = r'\\b\\d{3}[-.]?\\d{3}[-.]?\\d{4}\\b'\n",
        "\n",
        "# Function to validate an email address\n",
        "def is_valid_email(email):\n",
        "    return re.match(email_pattern, email) is not None\n",
        "\n",
        "# Function to extract phone numbers from text\n",
        "def extract_phone_numbers(text):\n",
        "    return re.findall(phone_pattern, text)\n",
        "\n",
        "# Validate email addresses\n",
        "emails = [\"john@example.com\", \"jane@gmail.com\", \"invalid-email\"]\n",
        "for email in emails:\n",
        "    if is_valid_email(email):\n",
        "        print(f\"{email} is a valid email address.\")\n",
        "    else:\n",
        "        print(f\"{email} is not a valid email address.\")\n",
        "\n",
        "# Extract phone numbers from text\n",
        "text = \"Call me at 123-456-7890 or 555.555.5555 for assistance.\"\n",
        "phone_numbers = extract_phone_numbers(text)\n",
        "print(\"Phone Numbers:\", phone_numbers)"
      ],
      "metadata": {
        "colab": {
          "base_uri": "https://localhost:8080/"
        },
        "id": "jdasOZOQIKcg",
        "outputId": "6eefe97a-0d73-4308-c5a5-0c9b2a084e9c"
      },
      "execution_count": 4,
      "outputs": [
        {
          "output_type": "stream",
          "name": "stdout",
          "text": [
            "john@example.com is a valid email address.\n",
            "jane@gmail.com is a valid email address.\n",
            "invalid-email is not a valid email address.\n",
            "Phone Numbers: ['123-456-7890', '555.555.5555']\n"
          ]
        }
      ]
    },
    {
      "cell_type": "markdown",
      "source": [
        "**Python Classes:**\n",
        "\n",
        "Define a Python class representing a “Person” with attributes like name and age.\n",
        "\n",
        "Create a subclass of “Person” called “Student” with additional attributes like grade and school.\n"
      ],
      "metadata": {
        "id": "tJiHvBJ4JIT7"
      }
    },
    {
      "cell_type": "code",
      "source": [
        "# Define the base class \"Person\"\n",
        "class Person:\n",
        "    def __init__(self, name, age):\n",
        "        self.name = name\n",
        "        self.age = age\n",
        "\n",
        "    def introduce(self):\n",
        "        print(f\"Hello, my name is {self.name}, and I am {self.age} years old.\")\n",
        "\n",
        "# Create an instance of \"Person\"\n",
        "person1 = Person(\"John\", 30)\n",
        "person1.introduce()  # Output: Hello, my name is John, and I am 30 years old.\n",
        "\n",
        "# Define the subclass \"Student\" that inherits from \"Person\"\n",
        "class Student(Person):\n",
        "    def __init__(self, name, age, grade, school):\n",
        "        # Call the constructor of the base class (\"Person\") using super()\n",
        "        super().__init__(name, age)\n",
        "        self.grade = grade\n",
        "        self.school = school\n",
        "\n",
        "    def study(self):\n",
        "        print(f\"I am a student in grade {self.grade} at {self.school}.\")\n",
        "\n",
        "# Create an instance of \"Student\"\n",
        "student1 = Student(\"Alice\", 15, 9, \"ABC High School\")\n",
        "student1.introduce()  # Output: Hello, my name is Alice, and I am 15 years old.\n",
        "student1.study()      # Output: I am a student in grade 9 at ABC High School."
      ],
      "metadata": {
        "colab": {
          "base_uri": "https://localhost:8080/"
        },
        "id": "Kss3ho4_JMvy",
        "outputId": "7e5bd7fa-48c9-4355-b56b-13c0cec99246"
      },
      "execution_count": 5,
      "outputs": [
        {
          "output_type": "stream",
          "name": "stdout",
          "text": [
            "Hello, my name is John, and I am 30 years old.\n",
            "Hello, my name is Alice, and I am 15 years old.\n",
            "I am a student in grade 9 at ABC High School.\n"
          ]
        }
      ]
    }
  ]
}