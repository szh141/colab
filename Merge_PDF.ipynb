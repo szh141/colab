{
  "nbformat": 4,
  "nbformat_minor": 0,
  "metadata": {
    "colab": {
      "provenance": [],
      "authorship_tag": "ABX9TyN1+O49u/zpLsZoQqga+Jtb",
      "include_colab_link": true
    },
    "kernelspec": {
      "name": "python3",
      "display_name": "Python 3"
    },
    "language_info": {
      "name": "python"
    }
  },
  "cells": [
    {
      "cell_type": "markdown",
      "metadata": {
        "id": "view-in-github",
        "colab_type": "text"
      },
      "source": [
        "<a href=\"https://colab.research.google.com/github/szh141/colab/blob/main/Merge_PDF.ipynb\" target=\"_parent\"><img src=\"https://colab.research.google.com/assets/colab-badge.svg\" alt=\"Open In Colab\"/></a>"
      ]
    },
    {
      "cell_type": "code",
      "execution_count": null,
      "metadata": {
        "id": "JvzD4H_oOb7M"
      },
      "outputs": [],
      "source": [
        "#pip install PyPDF2\n",
        "\n",
        "import PyPDF2\n",
        "\n",
        "def merge_pdfs(pdf_list, output_path):\n",
        "    pdf_merger = PyPDF2.PdfMerger()\n",
        "    for pdf in pdf_list:\n",
        "        pdf_merger.append(pdf)\n",
        "    with open(output_path, 'wb') as merged_pdf:\n",
        "        pdf_merger.write(merged_pdf)\n",
        "\n",
        "pdf_list = ['/content/drive/MyDrive/Colab images/Usage by lab.pdf', '/content/drive/MyDrive/Colab images/report_617447_5814292888.pdf']\n",
        "output_path = 'merged.pdf'\n",
        "merge_pdfs(pdf_list, output_path)"
      ]
    }
  ]
}